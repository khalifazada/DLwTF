{
 "cells": [
  {
   "cell_type": "markdown",
   "metadata": {
    "deletable": true,
    "editable": true
   },
   "source": [
    "## Linear Regression with TensorFlow\n",
    "\n",
    "This notebook will demonstrate how to create a simple linear regression model through a set of points.\n",
    "\n",
    "We start by creating the data for the $x$ variable first:"
   ]
  },
  {
   "cell_type": "code",
   "execution_count": 126,
   "metadata": {
    "collapsed": false,
    "deletable": true,
    "editable": true
   },
   "outputs": [],
   "source": [
    "import tensorflow as tf\n",
    "import numpy as np\n",
    "import matplotlib.pyplot as plt \n",
    "\n",
    "# set randomness seed for results to be replicateable\n",
    "seed = np.random.seed(0)\n",
    "\n",
    "# N element vector with values between (0, 1)\n",
    "N = 100\n",
    "x = np.random.rand(N).astype(np.float32)"
   ]
  },
  {
   "cell_type": "markdown",
   "metadata": {
    "deletable": true,
    "editable": true
   },
   "source": [
    "We will use the $$f(x)=3x+2$$ function where $y_i=f(x_{i})$\n",
    "\n",
    "We will assign the $y$ variable to be the linear function of $3x+2$ and also add some __random noise__ from a standard Normal distribution:"
   ]
  },
  {
   "cell_type": "code",
   "execution_count": 149,
   "metadata": {
    "collapsed": false,
    "deletable": true,
    "editable": true
   },
   "outputs": [
    {
     "data": {
      "image/png": "[encoded data removed]",
      "text/plain": [
       "<matplotlib.figure.Figure at 0x2104e2835f8>"
      ]
     },
     "metadata": {},
     "output_type": "display_data"
    }
   ],
   "source": [
    "# noise from normal distribution\n",
    "var = 0.25 # variance\n",
    "eps = np.random.normal(loc=0, scale=var, size=N)\n",
    "\n",
    "# generated actual data\n",
    "y = 3 * x + 2 + eps\n",
    "\n",
    "# Create a basic scatterplot\n",
    "plt.plot(x, y, 'ro')\n",
    "plt.show()"
   ]
  },
  {
   "cell_type": "markdown",
   "metadata": {
    "deletable": true,
    "editable": true
   },
   "source": [
    "Having created our random dataset that is scattered along $3x+2$ we will attempt to optimize two parameters $W$ and $b$ with __TensorFlow__ to find the line of best fit. $$W*x+b$$ What we should get is $W=3$ and $b=2$ or values that are close to these."
   ]
  },
  {
   "cell_type": "code",
   "execution_count": 150,
   "metadata": {
    "collapsed": false,
    "deletable": true,
    "editable": true
   },
   "outputs": [],
   "source": [
    "# generic placeholder that will receive input data\n",
    "x_ = tf.placeholder(tf.float32)\n",
    "\n",
    "# randomly initialized parameters that need optimization\n",
    "W = tf.Variable(tf.truncated_normal([1], stddev=0.125), name=\"Weight\")\n",
    "B = tf.Variable(tf.truncated_normal([1], stddev=0.125), name=\"Bias\")\n",
    "\n",
    "# predicted values from our model.\n",
    "y_ = tf.add(tf.multiply(W, x_), B)\n",
    "\n",
    "# loss value itself that needs reduction\n",
    "loss = tf.reduce_mean(tf.square(y - y_))\n",
    "\n",
    "# Create an optimizer and train it at a particular rate\n",
    "learning_rate = 0.05\n",
    "optimizer = tf.train.GradientDescentOptimizer(learning_rate)\n",
    "train = optimizer.minimize(loss)"
   ]
  },
  {
   "cell_type": "markdown",
   "metadata": {
    "collapsed": false,
    "deletable": true,
    "editable": true,
    "scrolled": true
   },
   "source": [
    "We have created an object __optimizer__ that will take the variable __loss__ and by figuring out a direction of steepest descent iteratively reduce the value to its global minimum, thus finding such values of $W$ & $b$ that bring variable __loss__ to the lowest possible value."
   ]
  },
  {
   "cell_type": "code",
   "execution_count": 151,
   "metadata": {
    "collapsed": false
   },
   "outputs": [
    {
     "name": "stdout",
     "output_type": "stream",
     "text": [
      "W = [ 2.99253702] b = [ 1.98384523]\n"
     ]
    }
   ],
   "source": [
    "# Create a session and run the computational graph\n",
    "with tf.Session() as sess:\n",
    "    \n",
    "    # initialize variables\n",
    "    init = tf.global_variables_initializer()\n",
    "    sess.run(init)\n",
    "    \n",
    "    # define iterations\n",
    "    epochs = 2000\n",
    "    \n",
    "    # create data dictionary \n",
    "    feed_dict = {x_: x}\n",
    "    \n",
    "    # create logs\n",
    "    loss_log, w_log, b_log = [], [], []\n",
    "    \n",
    "    # iterate\n",
    "    for epoch in range(epochs):\n",
    "        \n",
    "        # train the graph returning all values\n",
    "        _, l, w, b = sess.run([train, loss, W, B], feed_dict)\n",
    "        \n",
    "        # every 100 steps\n",
    "        if (epoch % 100) == 0:\n",
    "            \n",
    "            # keep log of values\n",
    "            loss_log.append(l), w_log.append(w), b_log.append(b)\n",
    "    \n",
    "    # print results\n",
    "    print(\"W =\", sess.run(W), \"b =\", sess.run(B))"
   ]
  },
  {
   "cell_type": "markdown",
   "metadata": {},
   "source": [
    "In the above cell we created a computational graph and passed data to flow between computational nodes. At each iteration TensorFlow reduced __loss__ by finding more suitable values for $W$ and $b$.\n",
    "\n",
    "We also created a log for each value of __loss__, $W$ and $b$ as TensorFlow was optimizing these parameters."
   ]
  },
  {
   "cell_type": "code",
   "execution_count": 130,
   "metadata": {
    "collapsed": false
   },
   "outputs": [
    {
     "data": {
      "image/png": "[encoded data removed]",
      "text/plain": [
       "<matplotlib.figure.Figure at 0x2104e43a160>"
      ]
     },
     "metadata": {},
     "output_type": "display_data"
    }
   ],
   "source": [
    "# plot values for W\n",
    "plt.plot(w_log)\n",
    "\n",
    "# plot values for b\n",
    "plt.plot(b_log)\n",
    "\n",
    "plt.show()"
   ]
  },
  {
   "cell_type": "markdown",
   "metadata": {},
   "source": [
    "### Conclusion\n",
    "\n",
    "From the final output we can see that values for $W$ and $b$ that TensorFlow found are very close to the actual. With increased iterations and more data (higher N) these values will get even closer.\n",
    "\n",
    "Finally let's plot our points and the line with found parameters all on one graph."
   ]
  },
  {
   "cell_type": "code",
   "execution_count": 152,
   "metadata": {
    "collapsed": false
   },
   "outputs": [
    {
     "data": {
      "image/png": "[encoded data removed]",
      "text/plain": [
       "<matplotlib.figure.Figure at 0x2104e2abfd0>"
      ]
     },
     "metadata": {},
     "output_type": "display_data"
    }
   ],
   "source": [
    "# plot the points again\n",
    "plt.plot(x, y, 'o')\n",
    "\n",
    "# assign the intercept & slope of the line \n",
    "intercept = b_log[len(b_log) - 1] # using last found value from the log\n",
    "slope = w_log[len(w_log) - 1] # same here\n",
    "\n",
    "# generate the points along the line\n",
    "y_points = slope * x + intercept\n",
    "\n",
    "# overlay the line on top of the points\n",
    "plt.plot(x, y_points)\n",
    "plt.show()"
   ]
  }
 ],
 "metadata": {
  "kernelspec": {
   "display_name": "Python 3",
   "language": "python",
   "name": "python3"
  },
  "language_info": {
   "codemirror_mode": {
    "name": "ipython",
    "version": 3
   },
   "file_extension": ".py",
   "mimetype": "text/x-python",
   "name": "python",
   "nbconvert_exporter": "python",
   "pygments_lexer": "ipython3",
   "version": "3.5.0"
  }
 },
 "nbformat": 4,
 "nbformat_minor": 2
}
